{
 "cells": [
  {
   "cell_type": "code",
   "execution_count": 37,
   "metadata": {},
   "outputs": [],
   "source": [
    "import requests\n",
    "import json"
   ]
  },
  {
   "cell_type": "markdown",
   "metadata": {},
   "source": [
    "### Set Key\n",
    "\n",
    "Get key from [Riot developer portal]('https://developer.riotgames.com/')"
   ]
  },
  {
   "cell_type": "code",
   "execution_count": 38,
   "metadata": {},
   "outputs": [],
   "source": [
    "with open('../keys/dev-key.txt', 'r') as f:\n",
    "    key = f.readlines()[0]"
   ]
  },
  {
   "cell_type": "code",
   "execution_count": 49,
   "metadata": {},
   "outputs": [],
   "source": [
    "summoner_name = \"Tidosewa\"\n",
    "response = requests.get(f\"https://euw1.api.riotgames.com/lol/summoner/v4/summoners/by-name/{summoner_name}?api_key={key}\")\n",
    "#response.content"
   ]
  },
  {
   "cell_type": "code",
   "execution_count": 40,
   "metadata": {},
   "outputs": [],
   "source": [
    "#json.loads(response.content)"
   ]
  },
  {
   "cell_type": "code",
   "execution_count": 71,
   "metadata": {},
   "outputs": [
    {
     "data": {
      "text/plain": [
       "'hvIv_6mlcrEmbqJ-TgPyRRamAVDTZOWRRmLhaVF9_nspsUnbVN9iw2AZ'"
      ]
     },
     "execution_count": 71,
     "metadata": {},
     "output_type": "execute_result"
    }
   ],
   "source": [
    "summoner = json.loads(response.content)\n",
    "account_id = summoner['accountId']\n",
    "account_id"
   ]
  },
  {
   "cell_type": "code",
   "execution_count": 44,
   "metadata": {},
   "outputs": [],
   "source": [
    "# check summoner op introgames queue '830' = introgame\n",
    "matchlist_response = requests.get(f\"https://euw1.api.riotgames.com/lol/match/v4/matchlists/by-account/{account_id}?queue=830&api_key={key}\")\n",
    "#matchlist_response.content"
   ]
  },
  {
   "cell_type": "code",
   "execution_count": 46,
   "metadata": {},
   "outputs": [],
   "source": [
    "#json.loads(matchlist_response.content)"
   ]
  },
  {
   "cell_type": "code",
   "execution_count": 73,
   "metadata": {},
   "outputs": [],
   "source": [
    "game = json.loads(matchlist_response.content)\n",
    "# get list of game id's\n",
    "# games.items()\n",
    "# 4 keys, 1 met list van dicts, 3 met een value\n",
    "games = game['matches']\n",
    "gameid_list = []\n",
    "for dict in games:\n",
    "    gameid_list.append(dict['gameId'])\n",
    "testlist = gameid_list[:5]"
   ]
  },
  {
   "cell_type": "code",
   "execution_count": 90,
   "metadata": {},
   "outputs": [
    {
     "data": {
      "text/plain": [
       "[['PblaINO0HLhQkFbjF4QGIiLoMPgTgj-KTx5iH50CRm1l0WfjpN8iImt3',\n",
       "  'mNIY6Llgs_gFbWWPFH_Ma0jfBvZ4lKzhviyxU4pnHmrYxHwiLKSMi-BD',\n",
       "  'vbjGccJSEXMhkzd8t2AshtnXjL3qqMvBIsmoSjuBSn6mJ55pqqmvNwEM',\n",
       "  '8ewwyql4A6KpeW9G56xAFcq0SfbkpeUhAQCJgWs1rKJfeWXJTYja2Ph7'],\n",
       " ['4DHsx3udZoErDtKmBXBgBCpsiuKLXQcPfa8a0vx1Nb2RIonQ5o17sxA1',\n",
       "  '8ewwyql4A6KpeW9G56xAFcq0SfbkpeUhAQCJgWs1rKJfeWXJTYja2Ph7',\n",
       "  'H1eNxDh4B0jzfJhlY8X2sa56JzhMx6zhduKsSPSeGjrzBE0',\n",
       "  'WOC7Zbeayuw_ClNrCEIB56i3eJhN9IRmHf2CsEucTtl66h9fwAODvMjh'],\n",
       " ['Xx_GeY5ddcPyqX9NQt_vqgSOkWeKHhm8JIPAYZxY7IZhr8u5CU8BBrD4',\n",
       "  'o5fJtJSdDSIcnXEc9z7b1nrQX32RaIaspIWQwI8RNJPo97tbHQghsDhA',\n",
       "  'cq9tu5e5Rlb_KkIUGwJ1djwjUIeH5Y0clFA7_4Mj29XLeefSxnJ7M_9z',\n",
       "  '8J5lAt7NOlitKkNubEbtvqIeCWCgeRxygF9S1YwBUwdTBzf5p3F_eVPn'],\n",
       " ['3oghqy-sS4cZMxkiHDwfGgYjydFWccIUop_E5Tad38mQZLxD6M0xSVQb',\n",
       "  '8yXOg5oEqoE5meF6PaY4uXnXzC6DGDHMzBcnBRINWKYJgfoUhAhuHlDy',\n",
       "  'h0MKYZZBEePkpdq6uyj-h6puUXNbN8GTjvXWoTlk-9hQ2R_9Y3XAdUmP',\n",
       "  'oTZmzrqWdbnckv3Tx3zzm_gG724fKaW2EmjESJNKIGqVVHmgJIcJ-3l9'],\n",
       " ['gd8VFxo_Z6rOSCFYe-Q5yFwnEPYyaj4aMQRj0sNW4tv6R9Fylxj05_Xc',\n",
       "  'ang-nVNJ-V9hTuLTj3DNdz8408glanVCTH0nSLpumAQC24SoYmnA4qxo',\n",
       "  'kgKrep6UYFNbFfx8EG24_khBiTuvhMJqxsW15QqSai6kBRp_kOlPx6ve',\n",
       "  'TG6kgBZ5xR5HG8NTel8KTPI4pve0jaRFwBa53NUDZkCCDv5uKqQvGird']]"
      ]
     },
     "execution_count": 90,
     "metadata": {},
     "output_type": "execute_result"
    }
   ],
   "source": [
<<<<<<< HEAD
    "# key \"participantIdentities\" is een list van dicts\n",
    "team_members = []\n",
    "#temp_mem = []\n",
    "members_t = []\n",
    "\n",
    "for game_id  in testlist:\n",
    "    temp_mem = []\n",
    "    reqou = requests.get(f\"https://euw1.api.riotgames.com/lol/match/v4/matches/{game_id}?api_key={key}\")\n",
    "    game_stats = json.loads(reqou.content)\n",
    "    participants = game_stats['participantIdentities']\n",
    "    for dict2 in participants:\n",
    "        if dict2['participantId'] > 5:\n",
    "            break\n",
    "        else: \n",
    "            a = dict2['player']\n",
    "            b = a['accountId']\n",
    "            if b not in account_id:\n",
    "                temp_mem.append(a['accountId'])\n",
    "            elif a['accountId'] not in team_members:\n",
    "                team_members.append(a['accountId'])\n",
    "                \n",
    "    members_t.append(temp_mem)\n",
    "#    temp_men.clear()\n",
    "    \n",
    "            \n",
    "# output is list van ##team_members zonder dubbele\n",
    "# output is list van ##member_t = members per team per match\n",
    "# aan de hand van hoeveel requests je mag zenden, kan je het aantal machtes van de eerste summoner omhoog zetten\n",
    "#members_t\n",
    "#team_members"
=======
    "# check op introgame queue '830' = introgame\n",
    "matchlist_response = requests.get(f\"https://euw1.api.riotgames.com/lol/match/v4/matchlists/by-account/{account_id}?queue=830&api_key={key}\")\n",
    "matchlist_response.content"
>>>>>>> 5fc388e2544b741e6aa23a4d086041c12dbb4c2a
   ]
  },
  {
   "cell_type": "code",
   "execution_count": null,
   "metadata": {},
   "outputs": [],
   "source": [
    "# vanaf hier:\n",
    "# elke id checken op intromatches\n",
    "# als alle 4 de id's intromatches hebben heb je de ultra botters gevonden\n",
    "# hierna kan analyse van de rest maken\n",
    "for each lijst in member_t:\n",
    "    for each id in lijst:\n",
    "        "
   ]
  },
  {
   "cell_type": "markdown",
   "metadata": {},
   "source": [
    "##### verder uitwerken\n",
    "- vind speler met intro matches\n",
    "- bekijk intromatches en maak list van summoners in friendly team per game, voeg deze toe aan dict (elke keer 4 spelers per key)\n",
    "- voer alle lists uit de dict uit op de introgame query (om te kijken of er introgames gespeeld zijn)(als introgame = true next player)\n",
    "- als alle spelers in de list inrogames hebben (4 x true) voeg spelers toe aan lijst als ze uniek zijn\n",
    "- uitkomst = lists met gekochte accounts die met elkaar botten \n",
    "- vervolg stap is uit alle overige lists de spelers eruithalen die ook intro games hadden en deze toevoegen aan aparte of dezelfde list"
   ]
  },
  {
   "cell_type": "code",
   "execution_count": null,
   "metadata": {},
   "outputs": [],
   "source": []
  }
 ],
 "metadata": {
  "kernelspec": {
   "display_name": "Python 3",
   "language": "python",
   "name": "python3"
  },
  "language_info": {
   "codemirror_mode": {
    "name": "ipython",
    "version": 3
   },
   "file_extension": ".py",
   "mimetype": "text/x-python",
   "name": "python",
   "nbconvert_exporter": "python",
   "pygments_lexer": "ipython3",
   "version": "3.7.6"
  }
 },
 "nbformat": 4,
 "nbformat_minor": 4
}
