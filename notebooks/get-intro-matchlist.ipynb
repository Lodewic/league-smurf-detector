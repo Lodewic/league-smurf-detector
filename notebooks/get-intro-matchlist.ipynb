{
 "cells": [
  {
   "cell_type": "code",
   "execution_count": 17,
   "metadata": {},
   "outputs": [],
   "source": [
    "import requests\n",
    "import json"
   ]
  },
  {
   "cell_type": "markdown",
   "metadata": {},
   "source": [
    "### Set Key\n",
    "\n",
    "Get key from [Riot developer portal]('https://developer.riotgames.com/')"
   ]
  },
  {
   "cell_type": "code",
   "execution_count": 18,
   "metadata": {},
   "outputs": [],
   "source": [
    "with open('../keys/dev-key.txt', 'r') as f:\n",
    "    key = f.readlines()[0]"
   ]
  },
  {
   "cell_type": "code",
   "execution_count": 19,
   "metadata": {},
   "outputs": [
    {
     "data": {
      "text/plain": [
       "b'{\"id\":\"z23OZhT404PpEIjZmTWEN8AKGHKoI_opYPro_7lpnWFw7OM\",\"accountId\":\"PH9nbtYVhjVHWdgdFGerulYEYpLNu6VsQBg5U-GQ_VJJNrE\",\"puuid\":\"qwdAVkt4ar6fT97ZU-cNCpzDolDjr-0_ydJj74jBFYNpkrFherF08THLTFITHFACDAzuuwAcJEjnXA\",\"name\":\"Cas5ius Clay\",\"profileIconId\":3790,\"revisionDate\":1595432900000,\"summonerLevel\":217}'"
      ]
     },
     "execution_count": 19,
     "metadata": {},
     "output_type": "execute_result"
    }
   ],
   "source": [
    "summoner_name = \"Cas5ius Clay\"\n",
    "response = requests.get(f\"https://euw1.api.riotgames.com/lol/summoner/v4/summoners/by-name/{summoner_name}?api_key={key}\")\n",
    "response.content"
   ]
  },
  {
   "cell_type": "code",
   "execution_count": 20,
   "metadata": {},
   "outputs": [
    {
     "data": {
      "text/plain": [
       "{'id': 'z23OZhT404PpEIjZmTWEN8AKGHKoI_opYPro_7lpnWFw7OM',\n",
       " 'accountId': 'PH9nbtYVhjVHWdgdFGerulYEYpLNu6VsQBg5U-GQ_VJJNrE',\n",
       " 'puuid': 'qwdAVkt4ar6fT97ZU-cNCpzDolDjr-0_ydJj74jBFYNpkrFherF08THLTFITHFACDAzuuwAcJEjnXA',\n",
       " 'name': 'Cas5ius Clay',\n",
       " 'profileIconId': 3790,\n",
       " 'revisionDate': 1595432900000,\n",
       " 'summonerLevel': 217}"
      ]
     },
     "execution_count": 20,
     "metadata": {},
     "output_type": "execute_result"
    }
   ],
   "source": [
    "json.loads(response.content)"
   ]
  },
  {
   "cell_type": "code",
   "execution_count": 21,
   "metadata": {},
   "outputs": [],
   "source": [
    "summoner = json.loads(response.content)\n",
    "account_id = summoner['accountId']"
   ]
  },
  {
   "cell_type": "code",
   "execution_count": 22,
   "metadata": {},
   "outputs": [
    {
     "data": {
      "text/plain": [
       "b'{\"status\":{\"status_code\":404,\"message\":\"Not found\"}}'"
      ]
     },
     "execution_count": 22,
     "metadata": {},
     "output_type": "execute_result"
    }
   ],
   "source": [
    "# check op introgame queue '830' = introgame\n",
    "matchlist_response = requests.get(f\"https://euw1.api.riotgames.com/lol/match/v4/matchlists/by-account/{account_id}?queue=830&api_key={key}\")\n",
    "matchlist_response.content"
   ]
  },
  {
   "cell_type": "code",
   "execution_count": null,
   "metadata": {},
   "outputs": [],
   "source": []
  },
  {
   "cell_type": "code",
   "execution_count": null,
   "metadata": {},
   "outputs": [],
   "source": []
  }
 ],
 "metadata": {
  "kernelspec": {
   "display_name": "Python 3",
   "language": "python",
   "name": "python3"
  },
  "language_info": {
   "codemirror_mode": {
    "name": "ipython",
    "version": 3
   },
   "file_extension": ".py",
   "mimetype": "text/x-python",
   "name": "python",
   "nbconvert_exporter": "python",
   "pygments_lexer": "ipython3",
   "version": "3.7.6"
  }
 },
 "nbformat": 4,
 "nbformat_minor": 4
}
